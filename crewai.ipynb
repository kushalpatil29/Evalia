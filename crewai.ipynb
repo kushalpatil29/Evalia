{
 "cells": [
  {
   "cell_type": "code",
   "execution_count": 1,
   "id": "44f3ee75-c336-4f2d-8326-9492f077e3ce",
   "metadata": {},
   "outputs": [
    {
     "name": "stdout",
     "output_type": "stream",
     "text": [
      "Requirement already satisfied: load_dotenv in c:\\users\\kusha\\anaconda3\\lib\\site-packages (0.1.0)\n",
      "Requirement already satisfied: python-dotenv in c:\\users\\kusha\\anaconda3\\lib\\site-packages (from load_dotenv) (1.0.1)\n",
      "Note: you may need to restart the kernel to use updated packages.\n"
     ]
    }
   ],
   "source": [
    "pip install load_dotenv"
   ]
  },
  {
   "cell_type": "code",
   "execution_count": 46,
   "id": "3bf51366-9b94-4cfc-ac52-a3d68d62f497",
   "metadata": {},
   "outputs": [
    {
     "name": "stderr",
     "output_type": "stream",
     "text": [
      "C:\\Users\\kusha\\anaconda3\\Lib\\site-packages\\paramiko\\pkey.py:100: CryptographyDeprecationWarning: TripleDES has been moved to cryptography.hazmat.decrepit.ciphers.algorithms.TripleDES and will be removed from this module in 48.0.0.\n",
      "  \"cipher\": algorithms.TripleDES,\n",
      "C:\\Users\\kusha\\anaconda3\\Lib\\site-packages\\paramiko\\transport.py:259: CryptographyDeprecationWarning: TripleDES has been moved to cryptography.hazmat.decrepit.ciphers.algorithms.TripleDES and will be removed from this module in 48.0.0.\n",
      "  \"class\": algorithms.TripleDES,\n"
     ]
    }
   ],
   "source": [
    "from crewai import Agent ,LLM\n",
    "from dotenv import load_dotenv\n",
    "from crewai_tools import SerperDevTool\n",
    "# from tools import tool\n",
    "import os\n"
   ]
  },
  {
   "cell_type": "code",
   "execution_count": 48,
   "id": "50abbe32-62e1-4259-a6b5-006059ebbc79",
   "metadata": {},
   "outputs": [
    {
     "data": {
      "text/plain": [
       "True"
      ]
     },
     "execution_count": 48,
     "metadata": {},
     "output_type": "execute_result"
    }
   ],
   "source": [
    "# Load environment variables\n",
    "load_dotenv()\n"
   ]
  },
  {
   "cell_type": "code",
   "execution_count": 50,
   "id": "c8431ef1-f5af-448e-82b0-336ec2821ccd",
   "metadata": {},
   "outputs": [],
   "source": [
    "llm = LLM(\n",
    "    model=\"gpt-4\",\n",
    "    temperature=0.7,\n",
    "    api_key=os.getenv(\"OPENAI_API_KEY\")\n",
    ")"
   ]
  },
  {
   "cell_type": "code",
   "execution_count": 52,
   "id": "75d1f1a9-6b0d-494c-b133-e387b2aa1592",
   "metadata": {},
   "outputs": [],
   "source": [
    "# Fetch and set SERPER_API_KEY in environment if available\n",
    "serper_api_key = os.getenv(\"SERPER_API_KEY\")\n",
    "if serper_api_key is None:\n",
    "    raise ValueError(\"SERPER_API_KEY is not set. Please add it to your .env file.\")\n",
    "else:\n",
    "    os.environ[\"SERPER_API_KEY\"] = serper_api_key\n",
    "\n",
    "# Instantiate the Serper dev tool\n",
    "tool = SerperDevTool()\n",
    "\n",
    "generator = Agent(\n",
    "    role=\"Passage generator and question framer\",\n",
    "    goal=\"Generate a passage for {grade} students of difficulty level {level} \"\n",
    "         \"and frame {question_nos} multiple-choice questions respectively.\",\n",
    "    verbose=True,\n",
    "    memory=True,\n",
    "    backstory=(\n",
    "        \"You are responsible for creating knowledge-enhancing passages and questions \"\n",
    "        \"suited for the grade level and difficulty specified by the user.\"\n",
    "    ),\n",
    "    tools=[tool],\n",
    "    llm=llm,\n",
    "    allow_delegation=True\n",
    ")\n",
    "\n",
    "# Create the evaluator agent\n",
    "evaluator = Agent(\n",
    "    role=\"Answer evaluator and scorer\",\n",
    "    goal=\"Using the passage and questions generated, determine the correct answers and \"\n",
    "         \"evaluate the student's answers. Provide a score and feedback based on performance.\",\n",
    "    verbose=True,\n",
    "    memory=True,\n",
    "    backstory=(\n",
    "        \"You are an evaluator who assesses student answers based on the passage and questions generated, \"\n",
    "        \"automatically determining correct answers for scoring.\"\n",
    "    ),\n",
    "    tools=[tool],\n",
    "    llm=llm,\n",
    "    allow_delegation=True\n",
    ")\n"
   ]
  },
  {
   "cell_type": "code",
   "execution_count": 79,
   "id": "6f6c9503-d506-4cd4-91b8-4b75bb824368",
   "metadata": {
    "scrolled": true
   },
   "outputs": [],
   "source": [
    "from pydantic import BaseModel\n",
    "from typing import List\n",
    "\n",
    "# Define the Pydantic models\n",
    "class QuestionModel(BaseModel):\n",
    "    question: str\n",
    "    options: List[str]\n",
    "    answer: str\n",
    "\n",
    "class QuizOutput(BaseModel):\n",
    "    passage: str\n",
    "    questions: List[QuestionModel]\n",
    "generator_task = Task(\n",
    "    description=(\n",
    "        \"The generator agent is responsible for creating a descriptive educational passage of minimum 1 page for a specified grade level. \"\n",
    "        \"This passage should be tailored to a difficulty level that aligns with the student's abilities. \"\n",
    "        \"After generating the passage, the generator agent must also frame multiple-choice questions \"\n",
    "        \"based on the passage content. These questions should be structured to assess the student's comprehension \"\n",
    "        \"and critical thinking, with four answer choices per question. The agent must ensure that the passage \"\n",
    "        \"and questions are contextually and grammatically accurate for the educational setting.\"\n",
    "    ),\n",
    "    expected_output=(\n",
    "        \"A long descriptive passage suitable for {grade} students, tailored to the {level} difficulty level. \"\n",
    "        \"This passage includes {question_nos} multiple-choice questions, each with four answer options on the topic {topic} as specified. \"\n",
    "        \"The passage and questions should be clear, educational, and aligned with the specified grade and \"\n",
    "        \"difficulty level to ensure relevance and appropriateness.\"\n",
    "    ),\n",
    "    tools=[tool],  # Tools used (make sure this is defined elsewhere)\n",
    "    agent=generator,  # The agent executing the task\n",
    "    output_pydantic=QuizOutput,  # Correct output model type\n",
    ")\n",
    "\n",
    "# Describing the Task of the evaluator agent\n",
    "evaluator_task = Task(\n",
    "    description=(\n",
    "        \"The evaluator agent's task is to assess the student's responses to the generated questions. \"\n",
    "        \"This involves analyzing each student-provided answer against the passage content and determining \"\n",
    "        \"the correct answers. The evaluator agent will then assign a score based on the number of correct answers \"\n",
    "        \"and provide personalized feedback for each question, highlighting areas of strength and areas that may need \"\n",
    "        \"improvement. The feedback should be constructive, with a focus on encouraging further learning and development.\"\n",
    "    ),\n",
    "    expected_output=(\n",
    "        \"An evaluation report including the student's score as a percentage, along with detailed feedback \"\n",
    "        \"for each question. The feedback should include whether each answer was correct or incorrect, along with \"\n",
    "        \"explanations where necessary. The evaluation should offer a balanced view of the student's performance, \"\n",
    "        \"recognizing strengths and identifying areas for improvement.\"\n",
    "    ),\n",
    "    tools=[tool],  # Tools used (make sure this is defined elsewhere)\n",
    "    agent=evaluator,  # The agent executing the task\n",
    ")"
   ]
  },
  {
   "cell_type": "code",
   "execution_count": 81,
   "id": "c562c40b-1f32-4737-ab24-e24ccbe1ef17",
   "metadata": {},
   "outputs": [
    {
     "name": "stderr",
     "output_type": "stream",
     "text": [
      "2024-12-19 00:24:30,630 - 29256 - __init__.py-__init__:537 - WARNING: Overriding of current TracerProvider is not allowed\n"
     ]
    }
   ],
   "source": [
    "from crewai import Crew, Process\n",
    "import json\n",
    "\n",
    "main_crew = Crew(\n",
    "    agents=[generator],\n",
    "    tasks=[generator_task],\n",
    "    process=Process.sequential,\n",
    ")"
   ]
  },
  {
   "cell_type": "code",
   "execution_count": 83,
   "id": "79107559-ad49-490a-a39c-1c0e778cac59",
   "metadata": {},
   "outputs": [
    {
     "name": "stdin",
     "output_type": "stream",
     "text": [
      "Enter the grade:  10\n",
      "Enter the number of questions:  2\n",
      "Enter the level of the questions:  medium\n",
      "Enter the topic:  Cells of human bodu\n"
     ]
    },
    {
     "name": "stdout",
     "output_type": "stream",
     "text": [
      "\u001b[1m\u001b[95m# Agent:\u001b[00m \u001b[1m\u001b[92mPassage generator and question framer\u001b[00m\n",
      "\u001b[95m## Task:\u001b[00m \u001b[92mThe generator agent is responsible for creating a descriptive educational passage of minimum 1 page for a specified grade level. This passage should be tailored to a difficulty level that aligns with the student's abilities. After generating the passage, the generator agent must also frame multiple-choice questions based on the passage content. These questions should be structured to assess the student's comprehension and critical thinking, with four answer choices per question. The agent must ensure that the passage and questions are contextually and grammatically accurate for the educational setting.\u001b[00m\n",
      "\n",
      "\n",
      "\u001b[1m\u001b[95m# Agent:\u001b[00m \u001b[1m\u001b[92mPassage generator and question framer\u001b[00m\n",
      "\u001b[95m## Thought:\u001b[00m \u001b[92mI need to generate a passage about the Cells of the human body suitable for grade 10 students and of medium difficulty level. Then, I need to create two multiple-choice questions based on the content of the passage, providing four answer choices for each question. In order to achieve this, I need to gather relevant and accurate information about the Cells of the human body. I will use the tool 'Search the internet' with a search query related to Cells of the human body to gather this information.\u001b[00m\n",
      "\u001b[95m## Using tool:\u001b[00m \u001b[92mSearch the internet\u001b[00m\n",
      "\u001b[95m## Tool Input:\u001b[00m \u001b[92m\n",
      "\"{\\\"search_query\\\": \\\"Cells of the human body\\\"}\"\u001b[00m\n",
      "\u001b[95m## Tool Output:\u001b[00m \u001b[92m\n",
      "\n",
      "Search results: Title: List of human cell types - Wikipedia\n",
      "Link: https://en.wikipedia.org/wiki/List_of_human_cell_types\n",
      "Snippet: Total number of cells​​ The adult human body is estimated to contain about 30 trillion (3×1013) human cells, with the number varying between 20 and 40 trillion ...\n",
      "---\n",
      "Title: What is a cell?: MedlinePlus Genetics\n",
      "Link: https://medlineplus.gov/genetics/understanding/basics/cell/\n",
      "Snippet: Cells are the basic building blocks of all living things. The human body is made of trillions of cells that carry out specialized functions.\n",
      "---\n",
      "Title: Cells - Fundamentals - Merck Manual Consumer Version\n",
      "Link: https://www.merckmanuals.com/home/fundamentals/the-human-body/cells\n",
      "Snippet: All cells in a person's body are descendants of two cells, the mother's egg and the father's sperm. After the egg and sperm join together (fertilization), the ...\n",
      "---\n",
      "Title: Types of cells in the human body: Histology - Kenhub\n",
      "Link: https://www.kenhub.com/en/library/anatomy/types-of-cells-in-the-human-body\n",
      "Snippet: Types of cells in the human body · Stem cells · Red blood cells · White blood cells · Platelets · Nerve cells · Neuroglial cells · Muscle cells · Cartilage ...\n",
      "---\n",
      "Title: Cell Types - Beckman Coulter\n",
      "Link: https://www.beckman.com/resources/cell-types\n",
      "Snippet: Human cells can be divided into stem cells, bone cells, blood cells, muscle cells, fat cells, skin cells, nerve cells, epithelial cells, sex cells, and cancer ...\n",
      "---\n",
      "Title: How Many Cells Are in the Human Body? Fast Facts - Healthline\n",
      "Link: https://www.healthline.com/health/number-of-cells-in-body\n",
      "Snippet: How many cells are in the human body? An average person is estimated to contain roughly 30 trillion human cells, according to recent research.\n",
      "---\n",
      "Title: The human cell count and size distribution - PMC - PubMed Central\n",
      "Link: https://pmc.ncbi.nlm.nih.gov/articles/PMC10523466/\n",
      "Snippet: These data emphasize the vast size range of human cells, from a tiny red blood cell to a myocyte, more than a million-fold larger. Because of ...\n",
      "---\n",
      "Title: Definition of cell - NCI Dictionary of Cancer Terms\n",
      "Link: https://www.cancer.gov/publications/dictionaries/cancer-terms/def/cell\n",
      "Snippet: The human body has more than 30 trillion cells. Parts of a cell. A cell is surrounded by a membrane, which has receptors on the surface.\n",
      "---\n",
      "\u001b[00m\n",
      "\n",
      "\n",
      "\u001b[1m\u001b[95m# Agent:\u001b[00m \u001b[1m\u001b[92mPassage generator and question framer\u001b[00m\n",
      "\u001b[95m## Final Answer:\u001b[00m \u001b[92m\n",
      "{\n",
      "  \"passage\": \"Cells are the basic building blocks of all living organisms, including humans. The adult human body is estimated to contain about 30 trillion cells, though the number can vary between 20 and 40 trillion. Each of these cells carries out specialized functions that contribute to the overall functioning of the body. There are a multitude of different types of cells in the human body, including stem cells, red blood cells, white blood cells, platelets, nerve cells, muscle cells, among others. Furthermore, all cells in a person's body are descendants of two cells, the mother's egg and the father's sperm, which join together during fertilization.\",\n",
      "  \"questions\": [\n",
      "  {\n",
      "    \"question\": \"Approximately how many cells does the adult human body contain?\",\n",
      "    \"options\": [\"20 billion\", \"30 trillion\", \"40 million\", \"50 billion\"],\n",
      "    \"answer\": \"30 trillion\"\n",
      "  },\n",
      "  {\n",
      "    \"question\": \"Which two cells join together during fertilization to give rise to all other cells in a person's body?\",\n",
      "    \"options\": [\"Stem cell and Red blood cell\", \"White blood cell and Platelet\", \"Nerve cell and Muscle cell\", \"Mother's egg and Father's sperm\"],\n",
      "    \"answer\": \"Mother's egg and Father's sperm\"\n",
      "  }\n",
      "  ]\n",
      "}\u001b[00m\n",
      "\n",
      "\n",
      "No result output available.\n"
     ]
    }
   ],
   "source": [
    "\n",
    "# Collect input from the user\n",
    "grade = input(\"Enter the grade: \").strip()\n",
    "question_nos = int(input(\"Enter the number of questions: \").strip())\n",
    "level = input(\"Enter the level of the questions: \").strip()\n",
    "topic = input(\"Enter the topic: \").strip()\n",
    "\n",
    "# Validate inputs\n",
    "if not grade or question_nos <= 0 or not level or not topic:\n",
    "    raise ValueError(\"Invalid input values provided.\")\n",
    "\n",
    "try:\n",
    "    # Running the crew's task\n",
    "    result = main_crew.kickoff(inputs={\n",
    "        \"grade\": grade,\n",
    "        \"question_nos\": question_nos,\n",
    "        \"level\": level,\n",
    "        \"topic\": topic\n",
    "    })\n",
    "\n",
    "    # Checking if result is not None\n",
    "    if result.json_dict:\n",
    "        # Print result for debugging\n",
    "        print(\"This is the result: \", result.json_dict)\n",
    "        \n",
    "        # Extract JSON output\n",
    "        json_output = result.json_dict  # Use json_dict to get the actual Python dictionary\n",
    "        with open(\"questions.json\", \"w\") as file:\n",
    "            json.dump(json_output, file, indent=4)\n",
    "\n",
    "        # Display the passage and questions (without answers) to students\n",
    "        print(\"\\nGenerated Passage:\")\n",
    "        print(json_output['passage'])\n",
    "        \n",
    "        print(\"\\nGenerated Questions:\")\n",
    "        for i, question in enumerate(json_output['questions'], start=1):\n",
    "            print(f\"\\nQuestion {i}: {question['question']}\")\n",
    "            for j, option in enumerate(question['options'], start=1):\n",
    "                print(f\"  {j}. {option}\")\n",
    "    else:\n",
    "        print(\"No result output available.\")\n",
    "        \n",
    "except ValueError as ve:\n",
    "    print(\"Error:\", ve)\n",
    "except Exception as e:\n",
    "    print(\"An unexpected error occurred:\", e)"
   ]
  },
  {
   "cell_type": "code",
   "execution_count": 64,
   "id": "ab0248ad-f3a7-4ea2-872d-7f839619da5c",
   "metadata": {},
   "outputs": [
    {
     "ename": "TypeError",
     "evalue": "'NoneType' object is not subscriptable",
     "output_type": "error",
     "traceback": [
      "\u001b[1;31m---------------------------------------------------------------------------\u001b[0m",
      "\u001b[1;31mTypeError\u001b[0m                                 Traceback (most recent call last)",
      "Cell \u001b[1;32mIn[64], line 6\u001b[0m\n\u001b[0;32m      3\u001b[0m     data \u001b[38;5;241m=\u001b[39m json\u001b[38;5;241m.\u001b[39mload(file)\n\u001b[0;32m      5\u001b[0m responses \u001b[38;5;241m=\u001b[39m []\n\u001b[1;32m----> 6\u001b[0m \u001b[38;5;28mprint\u001b[39m(\u001b[38;5;124mf\u001b[39m\u001b[38;5;124m\"\u001b[39m\u001b[38;5;124mPassage: \u001b[39m\u001b[38;5;132;01m{\u001b[39;00mdata[\u001b[38;5;124m'\u001b[39m\u001b[38;5;124mpassage\u001b[39m\u001b[38;5;124m'\u001b[39m]\u001b[38;5;132;01m}\u001b[39;00m\u001b[38;5;124m\"\u001b[39m)\n\u001b[0;32m      7\u001b[0m \u001b[38;5;28;01mfor\u001b[39;00m i, question \u001b[38;5;129;01min\u001b[39;00m \u001b[38;5;28menumerate\u001b[39m(data[\u001b[38;5;124m'\u001b[39m\u001b[38;5;124mquestions\u001b[39m\u001b[38;5;124m'\u001b[39m], start\u001b[38;5;241m=\u001b[39m\u001b[38;5;241m1\u001b[39m):\n\u001b[0;32m      8\u001b[0m     \u001b[38;5;28mprint\u001b[39m(\u001b[38;5;124mf\u001b[39m\u001b[38;5;124m\"\u001b[39m\u001b[38;5;130;01m\\n\u001b[39;00m\u001b[38;5;124mQuestion \u001b[39m\u001b[38;5;132;01m{\u001b[39;00mi\u001b[38;5;132;01m}\u001b[39;00m\u001b[38;5;124m: \u001b[39m\u001b[38;5;132;01m{\u001b[39;00mquestion[\u001b[38;5;124m'\u001b[39m\u001b[38;5;124mquestion\u001b[39m\u001b[38;5;124m'\u001b[39m]\u001b[38;5;132;01m}\u001b[39;00m\u001b[38;5;124m\"\u001b[39m)\n",
      "\u001b[1;31mTypeError\u001b[0m: 'NoneType' object is not subscriptable"
     ]
    }
   ],
   "source": [
    "# Load questions from the JSON file\n",
    "with open(\"questions.json\", \"r\") as file:\n",
    "    data = json.load(file)\n",
    "\n",
    "responses = []\n",
    "print(f\"Passage: {data['passage']}\")\n",
    "for i, question in enumerate(data['questions'], start=1):\n",
    "    print(f\"\\nQuestion {i}: {question['question']}\")\n",
    "    for j, option in enumerate(question['options'], start=1):\n",
    "        print(f\"{j}. {option}\")\n",
    "    response = int(input(f\"Your answer (1-{len(question['options'])}): \").strip()) - 1\n",
    "    responses.append(response)\n",
    "\n",
    "# Save student responses to a JSON file\n",
    "student_responses = {\"responses\": responses}\n",
    "with open(\"responses.json\", \"w\") as file:\n",
    "    json.dump(student_responses, file, indent=4)\n"
   ]
  },
  {
   "cell_type": "code",
   "execution_count": null,
   "id": "8ad936a8-0797-4ba9-b121-eeb855842960",
   "metadata": {},
   "outputs": [],
   "source": [
    "# Load questions and responses\n",
    "with open(\"questions.json\", \"r\") as q_file:\n",
    "    questions_data = json.load(q_file)\n",
    "\n",
    "with open(\"responses.json\", \"r\") as r_file:\n",
    "    responses_data = json.load(r_file)\n",
    "\n",
    "# Evaluate student responses\n",
    "evaluation_result = main_crew.kickoff(inputs={\n",
    "    \"questions\": questions_data,\n",
    "    \"responses\": responses_data\n",
    "})\n",
    "\n",
    "# Display evaluation feedback and scores\n",
    "evaluation_output = evaluation_result.json()\n",
    "print(\"\\nEvaluation Report:\")\n",
    "print(f\"Score: {evaluation_output['score']}%\")\n",
    "print(\"Feedback:\")\n",
    "for feedback in evaluation_output['feedback']:\n",
    "    print(feedback)\n"
   ]
  }
 ],
 "metadata": {
  "kernelspec": {
   "display_name": "Python 3 (ipykernel)",
   "language": "python",
   "name": "python3"
  },
  "language_info": {
   "codemirror_mode": {
    "name": "ipython",
    "version": 3
   },
   "file_extension": ".py",
   "mimetype": "text/x-python",
   "name": "python",
   "nbconvert_exporter": "python",
   "pygments_lexer": "ipython3",
   "version": "3.11.7"
  }
 },
 "nbformat": 4,
 "nbformat_minor": 5
}
